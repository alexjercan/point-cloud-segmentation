{
 "cells": [
  {
   "cell_type": "markdown",
   "id": "8efd993c",
   "metadata": {},
   "source": [
    "# Train"
   ]
  },
  {
   "cell_type": "code",
   "execution_count": 1,
   "id": "acd7cee3",
   "metadata": {},
   "outputs": [],
   "source": [
    "import os \n",
    "import torch\n",
    "\n",
    "import numpy as np\n",
    "import pandas as pd\n",
    "import seaborn as sns\n",
    "import matplotlib.pyplot as plt\n",
    "\n",
    "from tqdm.auto import tqdm\n",
    "from torch.utils.data import Dataset, DataLoader\n",
    "from datachallengecode import load_data\n",
    "from datachallengecode import metric\n",
    "\n",
    "from torchmetrics import MeanMetric, Accuracy, F1Score\n",
    "\n",
    "DEVICE = \"cuda\" if torch.cuda.is_available() else \"cpu\""
   ]
  },
  {
   "cell_type": "code",
   "execution_count": 2,
   "id": "de23af0a",
   "metadata": {},
   "outputs": [],
   "source": [
    "class2idx = {\n",
    "    \"background\": 0,\n",
    "    \"beams\": 1,\n",
    "    \"cabletrays\": 2,\n",
    "    \"civils\": 3,\n",
    "    \"gratings\": 4,\n",
    "    \"guardrails\": 5,\n",
    "    \"hvac\": 6,\n",
    "    \"ladders\": 7,\n",
    "    \"piping\": 8,\n",
    "    \"supports\": 9,\n",
    "}\n",
    "\n",
    "n_classes = len(class2idx)"
   ]
  },
  {
   "cell_type": "code",
   "execution_count": 3,
   "id": "2e799f1f",
   "metadata": {},
   "outputs": [],
   "source": [
    "data_path = \"data\"\n",
    "\n",
    "ytrain_path = os.path.join(data_path, \"ytrain.csv\")\n",
    "xtrain_path = os.path.join(data_path, \"xtrain\")\n",
    "\n",
    "ytrain_map__path = os.path.join(data_path, \"ytrain_map_ind_station.csv\")"
   ]
  },
  {
   "cell_type": "code",
   "execution_count": 4,
   "id": "cbaf9fa9",
   "metadata": {},
   "outputs": [],
   "source": [
    "class PlyPointsDataset(Dataset):\n",
    "    def __init__(self, data_path, station_id=0, cloud_size=2048, transform=None):\n",
    "        ytrain_path = os.path.join(data_path, \"ytrain.csv\")\n",
    "        xtrain_path = os.path.join(data_path, \"xtrain\")\n",
    "        ply_file = os.path.join(xtrain_path, f\"SCAN_{station_id}.ply\")\n",
    "\n",
    "        ytrain_map__path = os.path.join(data_path, \"ytrain_map_ind_station.csv\")\n",
    "        \n",
    "        _, x = load_data.read_x_plyfile(ply_file)\n",
    "        rest = cloud_size - (x.shape[0] % cloud_size)\n",
    "        x = np.concatenate([x, x[:rest, :]])\n",
    "        x[:, :3] = x[:, :3] / (x[:, :3].max() - x[:, :3].min())\n",
    "        x[:, 3:6] = x[:, 3:6] / 255\n",
    "        x[:, 6] = x[:, 6] / 255\n",
    "        self.x = x.reshape(-1, cloud_size, x.shape[-1]).transpose(0, 2, 1)\n",
    "        \n",
    "        y = load_data.load_yfile(ytrain_path)\n",
    "        y_map = pd.read_csv(ytrain_map__path, header=None, names=[\"station_id\", \"point_id_low\", \"point_id_high\"])\n",
    "        y_map.set_index(\"station_id\", inplace=True)\n",
    "        low, high = y_map.iloc[station_id]\n",
    "        y = y[low:high+1]\n",
    "        y = np.concatenate([y, y[:rest]])\n",
    "        self.y = y.reshape(-1, cloud_size)\n",
    "        \n",
    "        self.cloud_size = cloud_size\n",
    "        self.station_id = station_id\n",
    "        self.transform = transform\n",
    "        \n",
    "    def __len__(self):\n",
    "        return self.y.shape[0]\n",
    "    \n",
    "    def __getitem__(self, idx):\n",
    "        if torch.is_tensor(idx):\n",
    "            idx = idx.tolist()\n",
    "\n",
    "        sample = (self.x[idx], self.y[idx])\n",
    "        \n",
    "        if self.transform:\n",
    "            sample = self.transform(sample)\n",
    "        \n",
    "        return sample\n",
    "    \n",
    "\n",
    "def transform(sample):\n",
    "    x, y = sample\n",
    "    \n",
    "    x = torch.from_numpy(x).to(DEVICE)\n",
    "    y = torch.from_numpy(y).to(DEVICE)\n",
    "    \n",
    "    return (x, y)"
   ]
  },
  {
   "cell_type": "code",
   "execution_count": 5,
   "id": "90a65a73",
   "metadata": {},
   "outputs": [],
   "source": [
    "def evaluate(net, dataloader, criterion):\n",
    "    mean = MeanMetric()\n",
    "    f1 = F1Score(num_classes=n_classes, mdmc_reduce=\"global\")\n",
    "    \n",
    "    for i, (inputs, labels) in enumerate(tqdm(eval_dataloader), 0):\n",
    "        with torch.no_grad():\n",
    "            outputs, _ = net(inputs)\n",
    "            \n",
    "        preds = outputs.argmax(dim=1)\n",
    "        \n",
    "        loss = criterion(outputs, labels).item()\n",
    "        mean.update(loss)\n",
    "        f1.update(outputs, labels)\n",
    "        \n",
    "    return mean.compute(), f1.compute()"
   ]
  },
  {
   "cell_type": "markdown",
   "id": "eaaa4dcf",
   "metadata": {},
   "source": [
    "## PointNet++"
   ]
  },
  {
   "cell_type": "code",
   "execution_count": 6,
   "id": "7148000c",
   "metadata": {},
   "outputs": [],
   "source": [
    "from pointnet import PointNet\n",
    "\n",
    "import torch.optim as optim\n",
    "import torch.nn as nn"
   ]
  },
  {
   "cell_type": "code",
   "execution_count": 7,
   "id": "cb0ed642",
   "metadata": {},
   "outputs": [],
   "source": [
    "net = PointNet(num_classes=n_classes).to(DEVICE)\n",
    "\n",
    "criterion = nn.CrossEntropyLoss()\n",
    "optimizer = optim.SGD(net.parameters(), lr=0.001, momentum=0.9)"
   ]
  },
  {
   "cell_type": "code",
   "execution_count": 8,
   "id": "2d115502",
   "metadata": {},
   "outputs": [],
   "source": [
    "train_dataset = PlyPointsDataset(data_path, station_id=0, transform=transform)\n",
    "eval_dataset = PlyPointsDataset(data_path, station_id=1, transform=transform)\n",
    "\n",
    "train_dataloader = DataLoader(train_dataset, batch_size=8, shuffle=True, num_workers=0)\n",
    "eval_dataloader = DataLoader(eval_dataset, batch_size=8, shuffle=False, num_workers=0)"
   ]
  },
  {
   "cell_type": "code",
   "execution_count": 9,
   "id": "2e74b0ef",
   "metadata": {},
   "outputs": [
    {
     "name": "stdout",
     "output_type": "stream",
     "text": [
      "[1,     1] loss: 0.050\n",
      "[1,    51] loss: 1.557\n",
      "[1,   101] loss: 1.071\n"
     ]
    },
    {
     "data": {
      "application/vnd.jupyter.widget-view+json": {
       "model_id": "6312cd3c3a3349eda9b3c843caade495",
       "version_major": 2,
       "version_minor": 0
      },
      "text/plain": [
       "  0%|          | 0/152 [00:00<?, ?it/s]"
      ]
     },
     "metadata": {},
     "output_type": "display_data"
    },
    {
     "name": "stdout",
     "output_type": "stream",
     "text": [
      "[1,   145] eval loss: 1.253 eval f1:  0.634\n",
      "[2,     1] loss: 0.020\n",
      "[2,    51] loss: 0.999\n",
      "[2,   101] loss: 0.982\n"
     ]
    },
    {
     "data": {
      "application/vnd.jupyter.widget-view+json": {
       "model_id": "efd6cf579aa54eecba4abaf6a004cfec",
       "version_major": 2,
       "version_minor": 0
      },
      "text/plain": [
       "  0%|          | 0/152 [00:00<?, ?it/s]"
      ]
     },
     "metadata": {},
     "output_type": "display_data"
    },
    {
     "name": "stdout",
     "output_type": "stream",
     "text": [
      "[2,   145] eval loss: 1.216 eval f1:  0.635\n",
      "[3,     1] loss: 0.019\n",
      "[3,    51] loss: 0.963\n",
      "[3,   101] loss: 0.955\n"
     ]
    },
    {
     "data": {
      "application/vnd.jupyter.widget-view+json": {
       "model_id": "1a881ceb4eb44c5096485777d7224008",
       "version_major": 2,
       "version_minor": 0
      },
      "text/plain": [
       "  0%|          | 0/152 [00:00<?, ?it/s]"
      ]
     },
     "metadata": {},
     "output_type": "display_data"
    },
    {
     "name": "stdout",
     "output_type": "stream",
     "text": [
      "[3,   145] eval loss: 1.201 eval f1:  0.635\n",
      "[4,     1] loss: 0.019\n",
      "[4,    51] loss: 0.947\n",
      "[4,   101] loss: 0.942\n"
     ]
    },
    {
     "data": {
      "application/vnd.jupyter.widget-view+json": {
       "model_id": "317d769841fa4815a6f8db8348a636dc",
       "version_major": 2,
       "version_minor": 0
      },
      "text/plain": [
       "  0%|          | 0/152 [00:00<?, ?it/s]"
      ]
     },
     "metadata": {},
     "output_type": "display_data"
    },
    {
     "name": "stdout",
     "output_type": "stream",
     "text": [
      "[4,   145] eval loss: 1.190 eval f1:  0.635\n",
      "[5,     1] loss: 0.019\n",
      "[5,    51] loss: 0.937\n",
      "[5,   101] loss: 0.935\n"
     ]
    },
    {
     "data": {
      "application/vnd.jupyter.widget-view+json": {
       "model_id": "aa5057507b1741b484b863bfc262f4b6",
       "version_major": 2,
       "version_minor": 0
      },
      "text/plain": [
       "  0%|          | 0/152 [00:00<?, ?it/s]"
      ]
     },
     "metadata": {},
     "output_type": "display_data"
    },
    {
     "name": "stdout",
     "output_type": "stream",
     "text": [
      "[5,   145] eval loss: 1.183 eval f1:  0.635\n",
      "[6,     1] loss: 0.019\n",
      "[6,    51] loss: 0.929\n",
      "[6,   101] loss: 0.929\n"
     ]
    },
    {
     "data": {
      "application/vnd.jupyter.widget-view+json": {
       "model_id": "124f6765f4c741ff8f9dc3e2b635718b",
       "version_major": 2,
       "version_minor": 0
      },
      "text/plain": [
       "  0%|          | 0/152 [00:00<?, ?it/s]"
      ]
     },
     "metadata": {},
     "output_type": "display_data"
    },
    {
     "name": "stdout",
     "output_type": "stream",
     "text": [
      "[6,   145] eval loss: 1.179 eval f1:  0.635\n",
      "[7,     1] loss: 0.019\n",
      "[7,    51] loss: 0.926\n",
      "[7,   101] loss: 0.925\n"
     ]
    },
    {
     "data": {
      "application/vnd.jupyter.widget-view+json": {
       "model_id": "f59c6d6b285e485db3cadb724ab1fd0a",
       "version_major": 2,
       "version_minor": 0
      },
      "text/plain": [
       "  0%|          | 0/152 [00:00<?, ?it/s]"
      ]
     },
     "metadata": {},
     "output_type": "display_data"
    },
    {
     "name": "stdout",
     "output_type": "stream",
     "text": [
      "[7,   145] eval loss: 1.177 eval f1:  0.635\n",
      "[8,     1] loss: 0.018\n",
      "[8,    51] loss: 0.922\n",
      "[8,   101] loss: 0.921\n"
     ]
    },
    {
     "data": {
      "application/vnd.jupyter.widget-view+json": {
       "model_id": "1e91b26d546b44b18f66edee69b66f54",
       "version_major": 2,
       "version_minor": 0
      },
      "text/plain": [
       "  0%|          | 0/152 [00:00<?, ?it/s]"
      ]
     },
     "metadata": {},
     "output_type": "display_data"
    },
    {
     "name": "stdout",
     "output_type": "stream",
     "text": [
      "[8,   145] eval loss: 1.174 eval f1:  0.635\n",
      "[9,     1] loss: 0.019\n",
      "[9,    51] loss: 0.920\n",
      "[9,   101] loss: 0.919\n"
     ]
    },
    {
     "data": {
      "application/vnd.jupyter.widget-view+json": {
       "model_id": "00a4e50c5ac0444c942126f1482f76ce",
       "version_major": 2,
       "version_minor": 0
      },
      "text/plain": [
       "  0%|          | 0/152 [00:00<?, ?it/s]"
      ]
     },
     "metadata": {},
     "output_type": "display_data"
    },
    {
     "name": "stdout",
     "output_type": "stream",
     "text": [
      "[9,   145] eval loss: 1.173 eval f1:  0.635\n",
      "[10,     1] loss: 0.018\n",
      "[10,    51] loss: 0.916\n",
      "[10,   101] loss: 0.916\n"
     ]
    },
    {
     "data": {
      "application/vnd.jupyter.widget-view+json": {
       "model_id": "4cc7b30e0e174b99b312d16f95444f86",
       "version_major": 2,
       "version_minor": 0
      },
      "text/plain": [
       "  0%|          | 0/152 [00:00<?, ?it/s]"
      ]
     },
     "metadata": {},
     "output_type": "display_data"
    },
    {
     "name": "stdout",
     "output_type": "stream",
     "text": [
      "[10,   145] eval loss: 1.172 eval f1:  0.635\n"
     ]
    }
   ],
   "source": [
    "losses = []\n",
    "eval_losses = []\n",
    "eval_f1s = []\n",
    "\n",
    "log_steps = 50\n",
    "mean = MeanMetric()\n",
    "for epoch in range(10):\n",
    "    running_loss = 0.0\n",
    "    for i, (inputs, labels) in enumerate(train_dataloader, 0):\n",
    "        optimizer.zero_grad()\n",
    "        \n",
    "        outputs, _ = net(inputs)\n",
    "        \n",
    "        loss = criterion(outputs, labels)\n",
    "        loss.backward()\n",
    "        optimizer.step()\n",
    "        \n",
    "        mean.update(loss.item())\n",
    "        \n",
    "        running_loss += loss.item()\n",
    "        if i % log_steps == log_steps-1:\n",
    "            print(f\"[{epoch + 1}, {i + 1:5d}] loss: {running_loss / log_steps:.3f}\")\n",
    "            running_loss = 0.0\n",
    "        \n",
    "    eval_loss, eval_f1 = evaluate(net, eval_dataloader, criterion)\n",
    "    \n",
    "    print(f\"[{epoch + 1}, eval] loss: {eval_loss:.3f} f1:  {eval_f1:.3f}\")\n",
    "    \n",
    "    losses.append(mean.compute())    \n",
    "    eval_losses.append(eval_loss)\n",
    "    eval_f1s.append(eval_f1)\n"
   ]
  },
  {
   "cell_type": "code",
   "execution_count": 10,
   "id": "3ed84825",
   "metadata": {},
   "outputs": [
    {
     "data": {
      "image/png": "[encoded data removed]",
      "text/plain": [
       "<Figure size 900x600 with 1 Axes>"
      ]
     },
     "metadata": {},
     "output_type": "display_data"
    }
   ],
   "source": [
    "fig, ax = plt.subplots(figsize=(9, 6))\n",
    "\n",
    "ax.plot(losses, label=\"train\")\n",
    "ax.plot(eval_losses, label=\"eval\")\n",
    "\n",
    "plt.legend()\n",
    "plt.title(\"Loss Plot\")\n",
    "plt.show()"
   ]
  },
  {
   "cell_type": "code",
   "execution_count": 11,
   "id": "05d47feb",
   "metadata": {},
   "outputs": [
    {
     "data": {
      "image/png": "[encoded data removed]",
      "text/plain": [
       "<Figure size 900x600 with 1 Axes>"
      ]
     },
     "metadata": {},
     "output_type": "display_data"
    }
   ],
   "source": [
    "fig, ax = plt.subplots(figsize=(9, 6))\n",
    "\n",
    "ax.plot(eval_f1s, label=\"eval\")\n",
    "\n",
    "plt.legend()\n",
    "plt.title(\"F1 Plot\")\n",
    "plt.show()"
   ]
  },
  {
   "cell_type": "code",
   "execution_count": null,
   "id": "aa8a8cd7",
   "metadata": {},
   "outputs": [],
   "source": []
  }
 ],
 "metadata": {
  "kernelspec": {
   "display_name": "Python 3 (ipykernel)",
   "language": "python",
   "name": "python3"
  },
  "language_info": {
   "codemirror_mode": {
    "name": "ipython",
    "version": 3
   },
   "file_extension": ".py",
   "mimetype": "text/x-python",
   "name": "python",
   "nbconvert_exporter": "python",
   "pygments_lexer": "ipython3",
   "version": "3.10.8"
  }
 },
 "nbformat": 4,
 "nbformat_minor": 5
}
